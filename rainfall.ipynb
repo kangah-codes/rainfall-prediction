{
 "cells": [
  {
   "cell_type": "code",
   "execution_count": 1,
   "metadata": {},
   "outputs": [],
   "source": [
    "import numpy as np\n",
    "import pandas as pd\n",
    "import matplotlib.pyplot as plt\n",
    "import seaborn as sns"
   ]
  },
  {
   "cell_type": "code",
   "execution_count": 14,
   "metadata": {},
   "outputs": [],
   "source": [
    "rainfall = pd.read_csv(\"customized_daily_rainfall_data.csv\", index_col=0, low_memory=True)"
   ]
  },
  {
   "cell_type": "code",
   "execution_count": 15,
   "metadata": {},
   "outputs": [
    {
     "data": {
      "text/html": [
       "<div>\n",
       "<style scoped>\n",
       "    .dataframe tbody tr th:only-of-type {\n",
       "        vertical-align: middle;\n",
       "    }\n",
       "\n",
       "    .dataframe tbody tr th {\n",
       "        vertical-align: top;\n",
       "    }\n",
       "\n",
       "    .dataframe thead th {\n",
       "        text-align: right;\n",
       "    }\n",
       "</style>\n",
       "<table border=\"1\" class=\"dataframe\">\n",
       "  <thead>\n",
       "    <tr style=\"text-align: right;\">\n",
       "      <th></th>\n",
       "      <th>Station</th>\n",
       "      <th>Year</th>\n",
       "      <th>Month</th>\n",
       "      <th>Day</th>\n",
       "      <th>Rainfall</th>\n",
       "    </tr>\n",
       "    <tr>\n",
       "      <th>StationIndex</th>\n",
       "      <th></th>\n",
       "      <th></th>\n",
       "      <th></th>\n",
       "      <th></th>\n",
       "      <th></th>\n",
       "    </tr>\n",
       "  </thead>\n",
       "  <tbody>\n",
       "    <tr>\n",
       "      <th>1</th>\n",
       "      <td>Dhaka</td>\n",
       "      <td>1970</td>\n",
       "      <td>1</td>\n",
       "      <td>1</td>\n",
       "      <td>0</td>\n",
       "    </tr>\n",
       "    <tr>\n",
       "      <th>1</th>\n",
       "      <td>Dhaka</td>\n",
       "      <td>1970</td>\n",
       "      <td>1</td>\n",
       "      <td>2</td>\n",
       "      <td>0</td>\n",
       "    </tr>\n",
       "    <tr>\n",
       "      <th>1</th>\n",
       "      <td>Dhaka</td>\n",
       "      <td>1970</td>\n",
       "      <td>1</td>\n",
       "      <td>3</td>\n",
       "      <td>0</td>\n",
       "    </tr>\n",
       "    <tr>\n",
       "      <th>1</th>\n",
       "      <td>Dhaka</td>\n",
       "      <td>1970</td>\n",
       "      <td>1</td>\n",
       "      <td>4</td>\n",
       "      <td>0</td>\n",
       "    </tr>\n",
       "    <tr>\n",
       "      <th>1</th>\n",
       "      <td>Dhaka</td>\n",
       "      <td>1970</td>\n",
       "      <td>1</td>\n",
       "      <td>5</td>\n",
       "      <td>0</td>\n",
       "    </tr>\n",
       "  </tbody>\n",
       "</table>\n",
       "</div>"
      ],
      "text/plain": [
       "             Station  Year  Month  Day  Rainfall\n",
       "StationIndex                                    \n",
       "1              Dhaka  1970      1    1         0\n",
       "1              Dhaka  1970      1    2         0\n",
       "1              Dhaka  1970      1    3         0\n",
       "1              Dhaka  1970      1    4         0\n",
       "1              Dhaka  1970      1    5         0"
      ]
     },
     "execution_count": 15,
     "metadata": {},
     "output_type": "execute_result"
    }
   ],
   "source": [
    "rainfall.head()"
   ]
  },
  {
   "cell_type": "code",
   "execution_count": 16,
   "metadata": {},
   "outputs": [
    {
     "name": "stdout",
     "output_type": "stream",
     "text": [
      "<class 'pandas.core.frame.DataFrame'>\n",
      "Int64Index: 542376 entries, 1 to 35\n",
      "Data columns (total 5 columns):\n",
      " #   Column    Non-Null Count   Dtype \n",
      "---  ------    --------------   ----- \n",
      " 0   Station   542376 non-null  object\n",
      " 1   Year      542376 non-null  int64 \n",
      " 2   Month     542376 non-null  int64 \n",
      " 3   Day       542376 non-null  int64 \n",
      " 4   Rainfall  542376 non-null  int64 \n",
      "dtypes: int64(4), object(1)\n",
      "memory usage: 24.8+ MB\n"
     ]
    }
   ],
   "source": [
    "rainfall.info()"
   ]
  },
  {
   "cell_type": "code",
   "execution_count": 17,
   "metadata": {},
   "outputs": [
    {
     "data": {
      "text/plain": [
       "Station     0\n",
       "Year        0\n",
       "Month       0\n",
       "Day         0\n",
       "Rainfall    0\n",
       "dtype: int64"
      ]
     },
     "execution_count": 17,
     "metadata": {},
     "output_type": "execute_result"
    }
   ],
   "source": [
    "rainfall.isnull().sum()"
   ]
  },
  {
   "cell_type": "code",
   "execution_count": 18,
   "metadata": {},
   "outputs": [
    {
     "data": {
      "text/plain": [
       "0"
      ]
     },
     "execution_count": 18,
     "metadata": {},
     "output_type": "execute_result"
    }
   ],
   "source": [
    "rainfall.duplicated().sum()"
   ]
  },
  {
   "cell_type": "code",
   "execution_count": null,
   "metadata": {},
   "outputs": [],
   "source": []
  },
  {
   "cell_type": "code",
   "execution_count": 20,
   "metadata": {},
   "outputs": [
    {
     "data": {
      "text/plain": [
       "<matplotlib.axes._subplots.AxesSubplot at 0x16964195860>"
      ]
     },
     "execution_count": 20,
     "metadata": {},
     "output_type": "execute_result"
    },
    {
     "data": {
      "image/png": "[encoded data removed]",
      "text/plain": [
       "<Figure size 1152x360 with 2 Axes>"
      ]
     },
     "metadata": {
      "needs_background": "light"
     },
     "output_type": "display_data"
    }
   ],
   "source": [
    "plt.subplot(121)\n",
    "sns.distplot(rainfall['Rainfall'])\n",
    "\n",
    "plt.subplot(122)\n",
    "rainfall[\"Rainfall\"].plot.box(figsize=(16,5))"
   ]
  },
  {
   "cell_type": "code",
   "execution_count": 22,
   "metadata": {},
   "outputs": [
    {
     "data": {
      "image/png": "[encoded data removed]",
      "text/plain": [
       "<Figure size 1008x576 with 3 Axes>"
      ]
     },
     "metadata": {
      "needs_background": "light"
     },
     "output_type": "display_data"
    }
   ],
   "source": [
    "plt.figure(figsize=(14,8))\n",
    "\n",
    "plt.subplot(2,2,1)\n",
    "plt.scatter(x=rainfall[\"Year\"], y=rainfall[\"Rainfall\"])\n",
    "plt.xlabel(\"Year\")\n",
    "plt.ylabel(\"Rain\")\n",
    "\n",
    "plt.subplot(2,2,2)\n",
    "plt.scatter(x=rainfall[\"Month\"], y=rainfall[\"Rainfall\"])\n",
    "plt.xlabel(\"Month\")\n",
    "plt.ylabel(\"Rain\")\n",
    "\n",
    "plt.subplot(2,2,3)\n",
    "plt.scatter(x=rainfall[\"Day\"], y=rainfall[\"Rainfall\"])\n",
    "plt.xlabel(\"Day\")\n",
    "plt.ylabel(\"Rain\")\n",
    "\n",
    "plt.show()"
   ]
  },
  {
   "cell_type": "code",
   "execution_count": 23,
   "metadata": {},
   "outputs": [],
   "source": [
    "# checking correlation\n",
    "corr = rainfall[[\"Year\", \"Month\", \"Day\", \"Rainfall\"]].corr()"
   ]
  },
  {
   "cell_type": "code",
   "execution_count": 24,
   "metadata": {},
   "outputs": [
    {
     "data": {
      "text/html": [
       "<div>\n",
       "<style scoped>\n",
       "    .dataframe tbody tr th:only-of-type {\n",
       "        vertical-align: middle;\n",
       "    }\n",
       "\n",
       "    .dataframe tbody tr th {\n",
       "        vertical-align: top;\n",
       "    }\n",
       "\n",
       "    .dataframe thead th {\n",
       "        text-align: right;\n",
       "    }\n",
       "</style>\n",
       "<table border=\"1\" class=\"dataframe\">\n",
       "  <thead>\n",
       "    <tr style=\"text-align: right;\">\n",
       "      <th></th>\n",
       "      <th>Year</th>\n",
       "      <th>Month</th>\n",
       "      <th>Day</th>\n",
       "      <th>Rainfall</th>\n",
       "    </tr>\n",
       "  </thead>\n",
       "  <tbody>\n",
       "    <tr>\n",
       "      <th>Year</th>\n",
       "      <td>1.000000e+00</td>\n",
       "      <td>5.134133e-18</td>\n",
       "      <td>6.290493e-17</td>\n",
       "      <td>0.006763</td>\n",
       "    </tr>\n",
       "    <tr>\n",
       "      <th>Month</th>\n",
       "      <td>5.134133e-18</td>\n",
       "      <td>1.000000e+00</td>\n",
       "      <td>0.000000e+00</td>\n",
       "      <td>0.054537</td>\n",
       "    </tr>\n",
       "    <tr>\n",
       "      <th>Day</th>\n",
       "      <td>6.290493e-17</td>\n",
       "      <td>0.000000e+00</td>\n",
       "      <td>1.000000e+00</td>\n",
       "      <td>-0.003084</td>\n",
       "    </tr>\n",
       "    <tr>\n",
       "      <th>Rainfall</th>\n",
       "      <td>6.762537e-03</td>\n",
       "      <td>5.453690e-02</td>\n",
       "      <td>-3.083585e-03</td>\n",
       "      <td>1.000000</td>\n",
       "    </tr>\n",
       "  </tbody>\n",
       "</table>\n",
       "</div>"
      ],
      "text/plain": [
       "                  Year         Month           Day  Rainfall\n",
       "Year      1.000000e+00  5.134133e-18  6.290493e-17  0.006763\n",
       "Month     5.134133e-18  1.000000e+00  0.000000e+00  0.054537\n",
       "Day       6.290493e-17  0.000000e+00  1.000000e+00 -0.003084\n",
       "Rainfall  6.762537e-03  5.453690e-02 -3.083585e-03  1.000000"
      ]
     },
     "execution_count": 24,
     "metadata": {},
     "output_type": "execute_result"
    }
   ],
   "source": [
    "corr"
   ]
  },
  {
   "cell_type": "code",
   "execution_count": 25,
   "metadata": {},
   "outputs": [
    {
     "data": {
      "image/png": "[encoded data removed]",
      "text/plain": [
       "<Figure size 576x432 with 2 Axes>"
      ]
     },
     "metadata": {
      "needs_background": "light"
     },
     "output_type": "display_data"
    }
   ],
   "source": [
    "plt.subplots(figsize=(8,6))\n",
    "\n",
    "fig = sns.heatmap(corr, xticklabels=corr.columns.values,yticklabels=corr.columns.values)"
   ]
  },
  {
   "cell_type": "code",
   "execution_count": 26,
   "metadata": {},
   "outputs": [],
   "source": [
    "rainfall_df = pd.get_dummies(rainfall)"
   ]
  },
  {
   "cell_type": "code",
   "execution_count": 27,
   "metadata": {},
   "outputs": [
    {
     "data": {
      "text/html": [
       "<div>\n",
       "<style scoped>\n",
       "    .dataframe tbody tr th:only-of-type {\n",
       "        vertical-align: middle;\n",
       "    }\n",
       "\n",
       "    .dataframe tbody tr th {\n",
       "        vertical-align: top;\n",
       "    }\n",
       "\n",
       "    .dataframe thead th {\n",
       "        text-align: right;\n",
       "    }\n",
       "</style>\n",
       "<table border=\"1\" class=\"dataframe\">\n",
       "  <thead>\n",
       "    <tr style=\"text-align: right;\">\n",
       "      <th></th>\n",
       "      <th>Year</th>\n",
       "      <th>Month</th>\n",
       "      <th>Day</th>\n",
       "      <th>Rainfall</th>\n",
       "      <th>Station_Ambagan_ctg</th>\n",
       "      <th>Station_Barisal</th>\n",
       "      <th>Station_Bhola</th>\n",
       "      <th>Station_Bogra</th>\n",
       "      <th>Station_Chandpur</th>\n",
       "      <th>Station_Chittagong</th>\n",
       "      <th>...</th>\n",
       "      <th>Station_Rangpur</th>\n",
       "      <th>Station_Sandwip</th>\n",
       "      <th>Station_Satkhira</th>\n",
       "      <th>Station_Sitakunda</th>\n",
       "      <th>Station_Srimangal</th>\n",
       "      <th>Station_Sylhet</th>\n",
       "      <th>Station_Tangail</th>\n",
       "      <th>Station_Teknaf</th>\n",
       "      <th>Station_chuadanga</th>\n",
       "      <th>Station_sydpur</th>\n",
       "    </tr>\n",
       "    <tr>\n",
       "      <th>StationIndex</th>\n",
       "      <th></th>\n",
       "      <th></th>\n",
       "      <th></th>\n",
       "      <th></th>\n",
       "      <th></th>\n",
       "      <th></th>\n",
       "      <th></th>\n",
       "      <th></th>\n",
       "      <th></th>\n",
       "      <th></th>\n",
       "      <th></th>\n",
       "      <th></th>\n",
       "      <th></th>\n",
       "      <th></th>\n",
       "      <th></th>\n",
       "      <th></th>\n",
       "      <th></th>\n",
       "      <th></th>\n",
       "      <th></th>\n",
       "      <th></th>\n",
       "      <th></th>\n",
       "    </tr>\n",
       "  </thead>\n",
       "  <tbody>\n",
       "    <tr>\n",
       "      <th>1</th>\n",
       "      <td>1970</td>\n",
       "      <td>1</td>\n",
       "      <td>1</td>\n",
       "      <td>0</td>\n",
       "      <td>0</td>\n",
       "      <td>0</td>\n",
       "      <td>0</td>\n",
       "      <td>0</td>\n",
       "      <td>0</td>\n",
       "      <td>0</td>\n",
       "      <td>...</td>\n",
       "      <td>0</td>\n",
       "      <td>0</td>\n",
       "      <td>0</td>\n",
       "      <td>0</td>\n",
       "      <td>0</td>\n",
       "      <td>0</td>\n",
       "      <td>0</td>\n",
       "      <td>0</td>\n",
       "      <td>0</td>\n",
       "      <td>0</td>\n",
       "    </tr>\n",
       "    <tr>\n",
       "      <th>1</th>\n",
       "      <td>1970</td>\n",
       "      <td>1</td>\n",
       "      <td>2</td>\n",
       "      <td>0</td>\n",
       "      <td>0</td>\n",
       "      <td>0</td>\n",
       "      <td>0</td>\n",
       "      <td>0</td>\n",
       "      <td>0</td>\n",
       "      <td>0</td>\n",
       "      <td>...</td>\n",
       "      <td>0</td>\n",
       "      <td>0</td>\n",
       "      <td>0</td>\n",
       "      <td>0</td>\n",
       "      <td>0</td>\n",
       "      <td>0</td>\n",
       "      <td>0</td>\n",
       "      <td>0</td>\n",
       "      <td>0</td>\n",
       "      <td>0</td>\n",
       "    </tr>\n",
       "    <tr>\n",
       "      <th>1</th>\n",
       "      <td>1970</td>\n",
       "      <td>1</td>\n",
       "      <td>3</td>\n",
       "      <td>0</td>\n",
       "      <td>0</td>\n",
       "      <td>0</td>\n",
       "      <td>0</td>\n",
       "      <td>0</td>\n",
       "      <td>0</td>\n",
       "      <td>0</td>\n",
       "      <td>...</td>\n",
       "      <td>0</td>\n",
       "      <td>0</td>\n",
       "      <td>0</td>\n",
       "      <td>0</td>\n",
       "      <td>0</td>\n",
       "      <td>0</td>\n",
       "      <td>0</td>\n",
       "      <td>0</td>\n",
       "      <td>0</td>\n",
       "      <td>0</td>\n",
       "    </tr>\n",
       "    <tr>\n",
       "      <th>1</th>\n",
       "      <td>1970</td>\n",
       "      <td>1</td>\n",
       "      <td>4</td>\n",
       "      <td>0</td>\n",
       "      <td>0</td>\n",
       "      <td>0</td>\n",
       "      <td>0</td>\n",
       "      <td>0</td>\n",
       "      <td>0</td>\n",
       "      <td>0</td>\n",
       "      <td>...</td>\n",
       "      <td>0</td>\n",
       "      <td>0</td>\n",
       "      <td>0</td>\n",
       "      <td>0</td>\n",
       "      <td>0</td>\n",
       "      <td>0</td>\n",
       "      <td>0</td>\n",
       "      <td>0</td>\n",
       "      <td>0</td>\n",
       "      <td>0</td>\n",
       "    </tr>\n",
       "    <tr>\n",
       "      <th>1</th>\n",
       "      <td>1970</td>\n",
       "      <td>1</td>\n",
       "      <td>5</td>\n",
       "      <td>0</td>\n",
       "      <td>0</td>\n",
       "      <td>0</td>\n",
       "      <td>0</td>\n",
       "      <td>0</td>\n",
       "      <td>0</td>\n",
       "      <td>0</td>\n",
       "      <td>...</td>\n",
       "      <td>0</td>\n",
       "      <td>0</td>\n",
       "      <td>0</td>\n",
       "      <td>0</td>\n",
       "      <td>0</td>\n",
       "      <td>0</td>\n",
       "      <td>0</td>\n",
       "      <td>0</td>\n",
       "      <td>0</td>\n",
       "      <td>0</td>\n",
       "    </tr>\n",
       "  </tbody>\n",
       "</table>\n",
       "<p>5 rows × 39 columns</p>\n",
       "</div>"
      ],
      "text/plain": [
       "              Year  Month  Day  Rainfall  Station_Ambagan_ctg  \\\n",
       "StationIndex                                                    \n",
       "1             1970      1    1         0                    0   \n",
       "1             1970      1    2         0                    0   \n",
       "1             1970      1    3         0                    0   \n",
       "1             1970      1    4         0                    0   \n",
       "1             1970      1    5         0                    0   \n",
       "\n",
       "              Station_Barisal  Station_Bhola  Station_Bogra  Station_Chandpur  \\\n",
       "StationIndex                                                                    \n",
       "1                           0              0              0                 0   \n",
       "1                           0              0              0                 0   \n",
       "1                           0              0              0                 0   \n",
       "1                           0              0              0                 0   \n",
       "1                           0              0              0                 0   \n",
       "\n",
       "              Station_Chittagong  ...  Station_Rangpur  Station_Sandwip  \\\n",
       "StationIndex                      ...                                     \n",
       "1                              0  ...                0                0   \n",
       "1                              0  ...                0                0   \n",
       "1                              0  ...                0                0   \n",
       "1                              0  ...                0                0   \n",
       "1                              0  ...                0                0   \n",
       "\n",
       "              Station_Satkhira  Station_Sitakunda  Station_Srimangal  \\\n",
       "StationIndex                                                           \n",
       "1                            0                  0                  0   \n",
       "1                            0                  0                  0   \n",
       "1                            0                  0                  0   \n",
       "1                            0                  0                  0   \n",
       "1                            0                  0                  0   \n",
       "\n",
       "              Station_Sylhet  Station_Tangail  Station_Teknaf  \\\n",
       "StationIndex                                                    \n",
       "1                          0                0               0   \n",
       "1                          0                0               0   \n",
       "1                          0                0               0   \n",
       "1                          0                0               0   \n",
       "1                          0                0               0   \n",
       "\n",
       "              Station_chuadanga  Station_sydpur  \n",
       "StationIndex                                     \n",
       "1                             0               0  \n",
       "1                             0               0  \n",
       "1                             0               0  \n",
       "1                             0               0  \n",
       "1                             0               0  \n",
       "\n",
       "[5 rows x 39 columns]"
      ]
     },
     "execution_count": 27,
     "metadata": {},
     "output_type": "execute_result"
    }
   ],
   "source": [
    "rainfall_df.head()"
   ]
  },
  {
   "cell_type": "code",
   "execution_count": 28,
   "metadata": {},
   "outputs": [],
   "source": [
    "X = rainfall_df.drop(columns=[\"Rainfall\"])\n",
    "Y = rainfall_df[\"Rainfall\"]"
   ]
  },
  {
   "cell_type": "code",
   "execution_count": 29,
   "metadata": {},
   "outputs": [],
   "source": [
    "# split data into random train and test subsets\n",
    "\n",
    "from sklearn.model_selection import train_test_split\n",
    "\n",
    "X_train, X_test, y_train, y_test = train_test_split(X, Y, test_size=0.25, random_state=0)"
   ]
  },
  {
   "cell_type": "code",
   "execution_count": 30,
   "metadata": {},
   "outputs": [
    {
     "data": {
      "text/plain": [
       "LinearRegression(copy_X=True, fit_intercept=True, n_jobs=None, normalize=False)"
      ]
     },
     "execution_count": 30,
     "metadata": {},
     "output_type": "execute_result"
    }
   ],
   "source": [
    "# fit a Linear Regression Model\n",
    "from sklearn.linear_model import LinearRegression\n",
    "regressor = LinearRegression()\n",
    "regressor.fit(X_train, y_train)"
   ]
  },
  {
   "cell_type": "code",
   "execution_count": 31,
   "metadata": {},
   "outputs": [],
   "source": [
    "# make predictions\n",
    "y_pred = regressor.predict(X_test)"
   ]
  },
  {
   "cell_type": "code",
   "execution_count": 33,
   "metadata": {},
   "outputs": [
    {
     "name": "stdout",
     "output_type": "stream",
     "text": [
      "Linear Regression R-squared: 0.013397873694607987\n"
     ]
    }
   ],
   "source": [
    "# calculate R-squared\n",
    "from sklearn.metrics import r2_score\n",
    "lin_r2 = r2_score(y_test, y_pred)\n",
    "\n",
    "print(\"Linear Regression R-squared: {}\".format(lin_r2))"
   ]
  },
  {
   "cell_type": "code",
   "execution_count": 34,
   "metadata": {},
   "outputs": [
    {
     "name": "stdout",
     "output_type": "stream",
     "text": [
      "Liner Regression RMSE: 18.664918845750996\n"
     ]
    }
   ],
   "source": [
    "# calculate root mean squared error (RMSE)\n",
    "from sklearn.metrics import mean_squared_error\n",
    "\n",
    "lin_mse = mean_squared_error(y_pred, y_test)\n",
    "lin_rmse = np.sqrt(lin_mse)\n",
    "print(\"Liner Regression RMSE: {}\".format(lin_rmse))"
   ]
  },
  {
   "cell_type": "code",
   "execution_count": 35,
   "metadata": {},
   "outputs": [
    {
     "name": "stdout",
     "output_type": "stream",
     "text": [
      "Liner Regression MAE: 9.615808390662876\n"
     ]
    }
   ],
   "source": [
    "# calculate mean absolute error (MAE)\n",
    "from sklearn.metrics import mean_absolute_error\n",
    "\n",
    "lin_mae = mean_absolute_error(y_pred, y_test)\n",
    "print(\"Liner Regression MAE: {}\".format(lin_mae))"
   ]
  },
  {
   "cell_type": "code",
   "execution_count": 36,
   "metadata": {},
   "outputs": [
    {
     "name": "stdout",
     "output_type": "stream",
     "text": [
      "Station_Rajshahi : -2.589941244553702\n",
      "Station_chuadanga : -2.524125753360947\n",
      "Station_Ishurdi : -2.166234274443788\n",
      "Station_Jessore : -2.025663891461235\n",
      "Station_Satkhira : -1.986845988001624\n",
      "Station_Bogra : -1.848115453622496\n",
      "Station_Tangail : -1.8174304757799142\n",
      "Station_Khulna : -1.5512183801735808\n",
      "Station_Mongla : -1.5078518542394121\n",
      "Station_Faridpur : -1.4301336825050042\n",
      "Station_Dinajpur : -1.3836659385486274\n",
      "Station_Madaripur : -1.0984372554509685\n",
      "Station_sydpur : -0.9946813001841956\n",
      "Station_Comilla : -0.9397026322693118\n",
      "Station_Dhaka : -0.9075446839246214\n",
      "Station_Chandpur : -0.8876095965440116\n",
      "Station_Mymensingh : -0.8370574564271622\n",
      "Station_Barisal : -0.8184685611680269\n",
      "Station_Rangpur : -0.5282320733898364\n",
      "Station_Srimangal : -0.3603052805719833\n",
      "Station_Bhola : -0.2820432487239909\n",
      "Day : -0.008131753631968157\n",
      "Year : 0.01261941348066819\n",
      "Month : 0.29898309099046205\n",
      "Station_Rangamati : 0.3047765287513946\n",
      "Station_Patuakhali : 0.3278341263860274\n",
      "Station_Khepupara : 0.9237530945564417\n",
      "Station_Feni : 1.2681304554972912\n",
      "Station_Ambagan_ctg : 1.4451189579766026\n",
      "Station_Chittagong : 1.5100286628590254\n",
      "Station_Kutubdia : 1.5294771466222863\n",
      "Station_M.court : 1.6819270746515396\n",
      "Station_Sitakunda : 1.797774027950836\n",
      "Station_Hatiya : 2.027464208215319\n",
      "Station_CoxsBazar : 3.057362035622182\n",
      "Station_Sandwip : 3.3169297959727246\n",
      "Station_Sylhet : 4.605433955918632\n",
      "Station_Teknaf : 4.689298954364161\n"
     ]
    }
   ],
   "source": [
    "# get feature coefficients\n",
    "importance = regressor.coef_\n",
    "feature_indexes_by_importance = importance.argsort()\n",
    "for index in feature_indexes_by_importance:\n",
    "    print('{} : {}'.format(X_train.columns[index], (importance[index] )))"
   ]
  },
  {
   "cell_type": "code",
   "execution_count": 37,
   "metadata": {},
   "outputs": [
    {
     "data": {
      "text/plain": [
       "'0.22.2.post1'"
      ]
     },
     "execution_count": 37,
     "metadata": {},
     "output_type": "execute_result"
    }
   ],
   "source": [
    "\n",
    "import sklearn\n",
    "sklearn.__version__"
   ]
  },
  {
   "cell_type": "code",
   "execution_count": 38,
   "metadata": {},
   "outputs": [],
   "source": [
    "# import libraries, we will use GridSearchCV to find the best parameter values\n",
    "from sklearn.ensemble import RandomForestRegressor\n",
    "rf = RandomForestRegressor(random_state=0)"
   ]
  },
  {
   "cell_type": "code",
   "execution_count": null,
   "metadata": {},
   "outputs": [],
   "source": [
    "# fit the model\n",
    "rf.fit(X_train, y_train)"
   ]
  },
  {
   "cell_type": "code",
   "execution_count": null,
   "metadata": {},
   "outputs": [],
   "source": []
  }
 ],
 "metadata": {
  "kernelspec": {
   "display_name": "Python 3",
   "language": "python",
   "name": "python3"
  },
  "language_info": {
   "codemirror_mode": {
    "name": "ipython",
    "version": 3
   },
   "file_extension": ".py",
   "mimetype": "text/x-python",
   "name": "python",
   "nbconvert_exporter": "python",
   "pygments_lexer": "ipython3",
   "version": "3.7.0"
  }
 },
 "nbformat": 4,
 "nbformat_minor": 4
}
